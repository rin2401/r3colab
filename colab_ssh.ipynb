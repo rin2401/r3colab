{
  "nbformat": 4,
  "nbformat_minor": 0,
  "metadata": {
    "colab": {
      "name": "colab_ssh.ipynb",
      "version": "0.3.2",
      "provenance": [],
      "collapsed_sections": [],
      "toc_visible": true
    },
    "kernelspec": {
      "name": "python3",
      "display_name": "Python 3"
    },
    "accelerator": "GPU"
  },
  "cells": [
    {
      "cell_type": "code",
      "metadata": {
        "id": "t0aL7wBBSL55",
        "colab_type": "code",
        "colab": {}
      },
      "source": [
        "from google.colab import drive\n",
        "drive.mount('/content/drive')"
      ],
      "execution_count": 0,
      "outputs": []
    },
    {
      "cell_type": "markdown",
      "metadata": {
        "id": "LCJozrsiVpgw",
        "colab_type": "text"
      },
      "source": [
        "# Remote SSH"
      ]
    },
    {
      "cell_type": "code",
      "metadata": {
        "id": "ZRI7RHCI0J8U",
        "colab_type": "code",
        "cellView": "form",
        "colab": {}
      },
      "source": [
        "#@title Remote SSH: Copy ngrok authtoken from https://dashboard.ngrok.com/auth { run: \"auto\" }\n",
        "\n",
        "import random, string, requests, json, getpass\n",
        "import time, os\n",
        "\n",
        "def run():\n",
        "  password = \"123456\" #@param {type: \"string\"}\n",
        "  authtoken = \"2ErRCVGdvrT1MeJSwLc4W_3mgVn8JV9Z3wmTxXuHMYF\" #@param {type: \"string\"}\n",
        "  sshkey = \"ssh-rsa AAAAB3NzaC1yc2EAAAADAQABAAABAQC7KbkdOAtC7b3sbTjeP1oNDhp+f2Q3M9Qms8mR6EJi17m+8a1oxvqh3JgZ2vYWo/mV9VJEGb5H86eSS1o6M6dV3+HzCrSbNS83iJJPuhi01oli/AF3gWOZmEzd+KNRxFDy9GnRltxpftgqRLiOhkyKc8mnVxHlvgB4Hihruz0vQfmj/JNLG2xot2EH6V4Ypj5PPFj8kqmM4eJT2MotZz7OU+PTkl6aUI/J/NfjpzsZIm1HlTIaD4xMgypM0Duqu3ft+BcnVtxvez7K4WZJWCVCO0awMTxZp/YnIrIDTn+pQlq6LsZZ/b/MnhBzzRvZryEg1Hrj3pg5TiI0cy4K4tzh rin2401@rinubu\" #@param {type: \"string\"} \n",
        "\n",
        "  #Generate root password\n",
        "  # password = ''.join(random.choice(string.ascii_letters + string.digits) for i in range(20))\n",
        "\n",
        "  print(\"> Setup sshd\")\n",
        "  ! apt-get install -qq -o=Dpkg::Use-Pty=0 openssh-server pwgen > /dev/null\n",
        "\n",
        "  print(\"> Set root password\")\n",
        "  ! echo root:$password | chpasswd\n",
        "  ! mkdir -p /var/run/sshd\n",
        "  ! echo \"PermitRootLogin yes\" >> /etc/ssh/sshd_config\n",
        "  ! echo \"PasswordAuthentication yes\" >> /etc/ssh/sshd_config\n",
        "  ! echo \"LD_LIBRARY_PATH=/usr/lib64-nvidia\" >> /root/.bashrc\n",
        "  ! echo \"export LD_LIBRARY_PATH\" >> /root/.bashrc\n",
        "  ! mkdir -p ~/.ssh\n",
        "  ! echo $sshkey >> ~/.ssh/authorized_keys\n",
        "\n",
        "  print(\"> Run sshd\")\n",
        "  get_ipython().system_raw('/usr/sbin/sshd -D &')\n",
        "\n",
        "  print(\"> Download ngrok\")\n",
        "  if not os.path.exists('ngrok'):\n",
        "    !wget https://bin.equinox.io/c/4VmDzA7iaHb/ngrok-stable-linux-amd64.zip\n",
        "    !unzip ngrok-stable-linux-amd64.zip\n",
        "    !rm ngrok-stable-linux-amd64.zip\n",
        "\n",
        "  #Ask token\n",
        "  # print(\"Copy authtoken from https://dashboard.ngrok.com/auth\")\n",
        "  # authtoken = getpass.getpass()\n",
        "\n",
        "  print(\"> Create tunnel\")\n",
        "  get_ipython().system_raw('./ngrok authtoken $authtoken && ./ngrok tcp 22 &')\n",
        "  print(\"> Wait get address\")  \n",
        "  time.sleep(3)\n",
        "  host, port = requests.get('http://localhost:4040/api/tunnels').json()['tunnels'][0]['public_url'][6:].split(':')\n",
        "  print(f'SSH command: ssh -p{port} root@{host}')\n",
        "  print(f'Root password: {password}')\n",
        "  print(\"SSH config:\")\n",
        "  print(f'''Host colab\n",
        "  HostName {host}\n",
        "  User root\n",
        "  Port {port}\n",
        "  ''')\n",
        "  \n",
        "run()"
      ],
      "execution_count": 0,
      "outputs": []
    },
    {
      "cell_type": "markdown",
      "metadata": {
        "id": "Zx6o8aO0VwPD",
        "colab_type": "text"
      },
      "source": [
        "# Jupyter Lab"
      ]
    },
    {
      "cell_type": "code",
      "metadata": {
        "id": "fBt_vhswV5q5",
        "colab_type": "code",
        "cellView": "form",
        "colab": {}
      },
      "source": [
        "#@title Jupyter Lab\n",
        "from IPython.lib import passwd\n",
        "import os, requests, time\n",
        "\n",
        "# !apt install tmux\n",
        "!pip -q install jupyterlab\n",
        "\n",
        "def lab():\n",
        "  password = \"123456\" #@param {type: \"string\"}\n",
        "  password = passwd(password)\n",
        "\n",
        "  print(\"> Download ngrok\")\n",
        "  if not os.path.exists('ngrok'):\n",
        "    !wget https://bin.equinox.io/c/4VmDzA7iaHb/ngrok-stable-linux-amd64.zip\n",
        "    !unzip ngrok-stable-linux-amd64.zip\n",
        "    !rm ngrok-stable-linux-amd64.zip\n",
        "\n",
        "  print(\"> Create tunnel\")\n",
        "\n",
        "  get_ipython().system_raw('./ngrok http 8888 &')\n",
        "  print(\"> Wait get address\")  \n",
        "  time.sleep(3)\n",
        "  url = requests.get('http://localhost:4040/api/tunnels').json()['tunnels'][0]['public_url']\n",
        "  print(\"Link:\", url)\n",
        "  \n",
        "  jupyter_running = !jupyter notebook list | grep 8888\n",
        "  print(\"> Run jupyter lab\")\n",
        "  if not jupyter_running:\n",
        "    !mkdir -p /content/.jupyter\n",
        "    !echo '{ \"NotebookApp\": { \"password\": $password } }' > /content/.jupyter/jupyter_notebook_config.json\n",
        "    get_ipython().system_raw('jupyter lab --ip 0.0.0.0 --no-browser --allow-root &')\n",
        "  \n",
        "lab()"
      ],
      "execution_count": 0,
      "outputs": []
    }
  ]
}